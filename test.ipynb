{
 "cells": [
  {
   "cell_type": "code",
   "execution_count": 1,
   "id": "8f53bb25",
   "metadata": {},
   "outputs": [
    {
     "name": "stderr",
     "output_type": "stream",
     "text": [
      "<string>:9: DeprecationWarning: botorch_model_class is deprecated and will be removed in a future version. Please specify botorch_model_class via `model_configs`.\n",
      "<string>:9: DeprecationWarning: botorch_model_class is deprecated and will be removed in a future version. Please specify botorch_model_class via `model_configs`.\n",
      "/opt/homebrew/lib/python3.13/site-packages/ax/modelbridge/best_model_selector.py:49: FutureWarning: functools.partial will be a method descriptor in future Python versions; wrap it in enum.member() if you want to preserve the old behavior\n",
      "  MEAN: Callable[[ARRAYLIKE], npt.NDArray] = partial(np.mean)\n",
      "/opt/homebrew/lib/python3.13/site-packages/ax/modelbridge/best_model_selector.py:51: FutureWarning: functools.partial will be a method descriptor in future Python versions; wrap it in enum.member() if you want to preserve the old behavior\n",
      "  MIN: Callable[[ARRAYLIKE], npt.NDArray] = partial(np.min)\n",
      "/opt/homebrew/lib/python3.13/site-packages/ax/modelbridge/best_model_selector.py:53: FutureWarning: functools.partial will be a method descriptor in future Python versions; wrap it in enum.member() if you want to preserve the old behavior\n",
      "  MAX: Callable[[ARRAYLIKE], npt.NDArray] = partial(np.max)\n",
      "[WARNING 04-12 10:49:36] ax.service.utils.with_db_settings_base: Ax currently requires a sqlalchemy version below 2.0. This will be addressed in a future release. Disabling SQL storage in Ax for now, if you would like to use SQL storage please install Ax with mysql extras via `pip install ax-platform[mysql]`.\n",
      "[INFO 04-12 10:49:36] ax.service.ax_client: Starting optimization with verbose logging. To disable logging, set the `verbose_logging` argument to `False`. Note that float values in the logs are rounded to 6 decimal points.\n",
      "[INFO 04-12 10:49:36] ax.service.utils.instantiation: Due to non-specification, we will use the heuristic for selecting objective thresholds.\n",
      "[INFO 04-12 10:49:36] ax.service.utils.instantiation: Created search space: SearchSpace(parameters=[RangeParameter(name='concentration', parameter_type=FLOAT, range=[5.0, 10.0]), RangeParameter(name='PG', parameter_type=FLOAT, range=[0.0, 14.6]), RangeParameter(name='PC', parameter_type=FLOAT, range=[0.0, 39.3]), RangeParameter(name='AA', parameter_type=INT, range=[0, 1035]), RangeParameter(name='AH', parameter_type=INT, range=[0, 837]), RangeParameter(name='PA', parameter_type=INT, range=[0, 352062])], parameter_constraints=[]).\n",
      "[INFO 04-12 10:49:36] ax.modelbridge.dispatch_utils: Using Models.BOTORCH_MODULAR since there is at least one ordered parameter and there are no unordered categorical parameters.\n",
      "[INFO 04-12 10:49:36] ax.modelbridge.dispatch_utils: Calculating the number of remaining initialization trials based on num_initialization_trials=None max_initialization_trials=None num_tunable_parameters=6 num_trials=None use_batch_trials=False\n",
      "[INFO 04-12 10:49:36] ax.modelbridge.dispatch_utils: calculated num_initialization_trials=12\n",
      "[INFO 04-12 10:49:36] ax.modelbridge.dispatch_utils: num_completed_initialization_trials=0 num_remaining_initialization_trials=12\n",
      "[INFO 04-12 10:49:36] ax.modelbridge.dispatch_utils: `verbose`, `disable_progbar`, and `jit_compile` are not yet supported when using `choose_generation_strategy` with ModularBoTorchModel, dropping these arguments.\n",
      "[INFO 04-12 10:49:36] ax.modelbridge.dispatch_utils: Using Bayesian Optimization generation strategy: GenerationStrategy(name='Sobol+BoTorch', steps=[Sobol for 12 trials, BoTorch for subsequent trials]). Iterations after 12 will take longer to generate due to model-fitting.\n",
      "[INFO 04-12 10:49:36] ax.core.experiment: Attached custom parameterizations [{'concentration': 10.0, 'PG': 0.0, 'PC': 7.4, 'AA': 0, 'AH': 0, 'PA': 0}] as trial 0.\n",
      "[INFO 04-12 10:49:36] ax.service.ax_client: Completed trial 0 with data: {'Crystallinity': (7.0, None), 'Morphology': (7.0, None)}.\n",
      "[INFO 04-12 10:49:36] ax.core.experiment: Attached custom parameterizations [{'concentration': 10.0, 'PG': 0.0, 'PC': 3.7, 'AA': 0, 'AH': 0, 'PA': 0}] as trial 1.\n",
      "[INFO 04-12 10:49:36] ax.service.ax_client: Completed trial 1 with data: {'Crystallinity': (2.0, None), 'Morphology': (4.0, None)}.\n",
      "[INFO 04-12 10:49:36] ax.core.experiment: Attached custom parameterizations [{'concentration': 10.0, 'PG': 0.0, 'PC': 7.4, 'AA': 230, 'AH': 0, 'PA': 0}] as trial 2.\n",
      "[INFO 04-12 10:49:36] ax.service.ax_client: Completed trial 2 with data: {'Crystallinity': (8.0, None), 'Morphology': (8.0, None)}.\n",
      "[INFO 04-12 10:49:36] ax.core.experiment: Attached custom parameterizations [{'concentration': 10.0, 'PG': 0.0, 'PC': 0.0, 'AA': 0, 'AH': 279, 'PA': 0}] as trial 3.\n",
      "[INFO 04-12 10:49:36] ax.service.ax_client: Completed trial 3 with data: {'Crystallinity': (6.0, None), 'Morphology': (5.0, None)}.\n",
      "[INFO 04-12 10:49:36] ax.core.experiment: Attached custom parameterizations [{'concentration': 5.0, 'PG': 0.0, 'PC': 7.4, 'AA': 0, 'AH': 0, 'PA': 0}] as trial 4.\n",
      "[INFO 04-12 10:49:36] ax.service.ax_client: Completed trial 4 with data: {'Crystallinity': (4.0, None), 'Morphology': (2.0, None)}.\n",
      "[INFO 04-12 10:49:36] ax.core.experiment: Attached custom parameterizations [{'concentration': 10.0, 'PG': 0.0, 'PC': 4.9, 'AA': 230, 'AH': 0, 'PA': 0}] as trial 5.\n",
      "[INFO 04-12 10:49:36] ax.service.ax_client: Completed trial 5 with data: {'Crystallinity': (5.0, None), 'Morphology': (7.0, None)}.\n",
      "[INFO 04-12 10:49:36] ax.core.experiment: Attached custom parameterizations [{'concentration': 10.0, 'PG': 0.0, 'PC': 7.4, 'AA': 345, 'AH': 0, 'PA': 0}] as trial 6.\n",
      "[INFO 04-12 10:49:36] ax.service.ax_client: Completed trial 6 with data: {'Crystallinity': (7.5, None), 'Morphology': (5.0, None)}.\n",
      "[INFO 04-12 10:49:36] ax.core.experiment: Attached custom parameterizations [{'concentration': 5.0, 'PG': 0.0, 'PC': 7.4, 'AA': 690, 'AH': 0, 'PA': 0}] as trial 7.\n",
      "[INFO 04-12 10:49:36] ax.service.ax_client: Completed trial 7 with data: {'Crystallinity': (0.0, None), 'Morphology': (4.0, None)}.\n",
      "[INFO 04-12 10:49:36] ax.core.experiment: Attached custom parameterizations [{'concentration': 10.0, 'PG': 0.0, 'PC': 4.9, 'AA': 0, 'AH': 279, 'PA': 0}] as trial 8.\n",
      "[INFO 04-12 10:49:36] ax.service.ax_client: Completed trial 8 with data: {'Crystallinity': (6.0, None), 'Morphology': (4.0, None)}.\n",
      "[INFO 04-12 10:49:36] ax.core.experiment: Attached custom parameterizations [{'concentration': 10.0, 'PG': 0.0, 'PC': 7.4, 'AA': 0, 'AH': 419, 'PA': 0}] as trial 9.\n",
      "[INFO 04-12 10:49:36] ax.service.ax_client: Completed trial 9 with data: {'Crystallinity': (4.0, None), 'Morphology': (3.0, None)}.\n",
      "[INFO 04-12 10:49:36] ax.core.experiment: Attached custom parameterizations [{'concentration': 5.0, 'PG': 0.0, 'PC': 7.4, 'AA': 0, 'AH': 837, 'PA': 0}] as trial 10.\n",
      "[INFO 04-12 10:49:36] ax.service.ax_client: Completed trial 10 with data: {'Crystallinity': (3.0, None), 'Morphology': (4.0, None)}.\n",
      "[INFO 04-12 10:49:36] ax.core.experiment: Attached custom parameterizations [{'concentration': 10.0, 'PG': 0.0, 'PC': 7.4, 'AA': 0, 'AH': 0, 'PA': 352062}] as trial 11.\n",
      "[INFO 04-12 10:49:36] ax.service.ax_client: Completed trial 11 with data: {'Crystallinity': (5.0, None), 'Morphology': (3.0, None)}.\n",
      "[INFO 04-12 10:49:36] ax.core.experiment: Attached custom parameterizations [{'concentration': 10.0, 'PG': 0.0, 'PC': 7.4, 'AA': 115, 'AH': 140, 'PA': 0}] as trial 12.\n",
      "[INFO 04-12 10:49:36] ax.service.ax_client: Completed trial 12 with data: {'Crystallinity': (7.5, None), 'Morphology': (5.0, None)}.\n",
      "[INFO 04-12 10:49:36] ax.core.experiment: Attached custom parameterizations [{'concentration': 10.0, 'PG': 0.0, 'PC': 4.9, 'AA': 345, 'AH': 0, 'PA': 0}] as trial 13.\n",
      "[INFO 04-12 10:49:36] ax.service.ax_client: Completed trial 13 with data: {'Crystallinity': (7.9, None), 'Morphology': (5.0, None)}.\n",
      "[INFO 04-12 10:49:36] ax.core.experiment: Attached custom parameterizations [{'concentration': 10.0, 'PG': 0.0, 'PC': 7.4, 'AA': 460, 'AH': 0, 'PA': 0}] as trial 14.\n",
      "[INFO 04-12 10:49:36] ax.service.ax_client: Completed trial 14 with data: {'Crystallinity': (2.0, None), 'Morphology': (4.0, None)}.\n",
      "[INFO 04-12 10:49:36] ax.core.experiment: Attached custom parameterizations [{'concentration': 10.0, 'PG': 0.0, 'PC': 7.4, 'AA': 575, 'AH': 140, 'PA': 0}] as trial 15.\n",
      "[INFO 04-12 10:49:36] ax.service.ax_client: Completed trial 15 with data: {'Crystallinity': (3.0, None), 'Morphology': (5.0, None)}.\n",
      "[INFO 04-12 10:49:36] ax.core.experiment: Attached custom parameterizations [{'concentration': 7.5, 'PG': 0.0, 'PC': 7.4, 'AA': 690, 'AH': 0, 'PA': 0}] as trial 16.\n",
      "[INFO 04-12 10:49:36] ax.service.ax_client: Completed trial 16 with data: {'Crystallinity': (7.8, None), 'Morphology': (6.5, None)}.\n",
      "[INFO 04-12 10:49:36] ax.core.experiment: Attached custom parameterizations [{'concentration': 10.0, 'PG': 0.0, 'PC': 7.4, 'AA': 1035, 'AH': 0, 'PA': 0}] as trial 17.\n",
      "[INFO 04-12 10:49:36] ax.service.ax_client: Completed trial 17 with data: {'Crystallinity': (5.0, None), 'Morphology': (6.0, None)}.\n",
      "[INFO 04-12 10:49:36] ax.core.experiment: Attached custom parameterizations [{'concentration': 10.0, 'PG': 0.0, 'PC': 9.8, 'AA': 345, 'AH': 0, 'PA': 0}] as trial 18.\n",
      "[INFO 04-12 10:49:36] ax.service.ax_client: Completed trial 18 with data: {'Crystallinity': (4.0, None), 'Morphology': (4.0, None)}.\n",
      "[INFO 04-12 10:49:36] ax.core.experiment: Attached custom parameterizations [{'concentration': 10.0, 'PG': 0.0, 'PC': 14.7, 'AA': 345, 'AH': 0, 'PA': 0}] as trial 19.\n",
      "[INFO 04-12 10:49:36] ax.service.ax_client: Completed trial 19 with data: {'Crystallinity': (5.0, None), 'Morphology': (5.0, None)}.\n",
      "[INFO 04-12 10:49:36] ax.core.experiment: Attached custom parameterizations [{'concentration': 10.0, 'PG': 0.0, 'PC': 14.7, 'AA': 230, 'AH': 0, 'PA': 0}] as trial 20.\n",
      "[INFO 04-12 10:49:36] ax.service.ax_client: Completed trial 20 with data: {'Crystallinity': (7.0, None), 'Morphology': (7.5, None)}.\n",
      "[INFO 04-12 10:49:36] ax.core.experiment: Attached custom parameterizations [{'concentration': 10.0, 'PG': 0.0, 'PC': 19.6, 'AA': 230, 'AH': 0, 'PA': 0}] as trial 21.\n",
      "[INFO 04-12 10:49:36] ax.service.ax_client: Completed trial 21 with data: {'Crystallinity': (7.5, None), 'Morphology': (6.5, None)}.\n",
      "[INFO 04-12 10:49:36] ax.core.experiment: Attached custom parameterizations [{'concentration': 10.0, 'PG': 0.0, 'PC': 24.5, 'AA': 230, 'AH': 0, 'PA': 0}] as trial 22.\n",
      "[INFO 04-12 10:49:36] ax.service.ax_client: Completed trial 22 with data: {'Crystallinity': (7.5, None), 'Morphology': (7.5, None)}.\n",
      "[INFO 04-12 10:49:36] ax.core.experiment: Attached custom parameterizations [{'concentration': 10.0, 'PG': 0.0, 'PC': 29.5, 'AA': 230, 'AH': 0, 'PA': 0}] as trial 23.\n",
      "[INFO 04-12 10:49:36] ax.service.ax_client: Completed trial 23 with data: {'Crystallinity': (8.0, None), 'Morphology': (8.0, None)}.\n",
      "[INFO 04-12 10:49:36] ax.core.experiment: Attached custom parameterizations [{'concentration': 10.0, 'PG': 0.0, 'PC': 22.1, 'AA': 345, 'AH': 0, 'PA': 0}] as trial 24.\n",
      "[INFO 04-12 10:49:36] ax.service.ax_client: Completed trial 24 with data: {'Crystallinity': (5.0, None), 'Morphology': (5.0, None)}.\n",
      "[INFO 04-12 10:49:36] ax.core.experiment: Attached custom parameterizations [{'concentration': 10.0, 'PG': 0.0, 'PC': 29.5, 'AA': 345, 'AH': 0, 'PA': 0}] as trial 25.\n",
      "[INFO 04-12 10:49:36] ax.service.ax_client: Completed trial 25 with data: {'Crystallinity': (8.0, None), 'Morphology': (5.0, None)}.\n",
      "[INFO 04-12 10:49:36] ax.core.experiment: Attached custom parameterizations [{'concentration': 10.0, 'PG': 0.0, 'PC': 39.3, 'AA': 230, 'AH': 0, 'PA': 0}] as trial 26.\n",
      "[INFO 04-12 10:49:36] ax.service.ax_client: Completed trial 26 with data: {'Crystallinity': (7.5, None), 'Morphology': (6.0, None)}.\n",
      "[INFO 04-12 10:49:36] ax.core.experiment: Attached custom parameterizations [{'concentration': 10.0, 'PG': 0.0, 'PC': 39.3, 'AA': 345, 'AH': 0, 'PA': 0}] as trial 27.\n",
      "[INFO 04-12 10:49:36] ax.service.ax_client: Completed trial 27 with data: {'Crystallinity': (4.5, None), 'Morphology': (4.5, None)}.\n",
      "[INFO 04-12 10:49:36] ax.core.experiment: Attached custom parameterizations [{'concentration': 10.0, 'PG': 7.3, 'PC': 0.0, 'AA': 345, 'AH': 0, 'PA': 0}] as trial 28.\n",
      "[INFO 04-12 10:49:36] ax.service.ax_client: Completed trial 28 with data: {'Crystallinity': (8.9, None), 'Morphology': (7.0, None)}.\n",
      "[INFO 04-12 10:49:36] ax.core.experiment: Attached custom parameterizations [{'concentration': 10.0, 'PG': 14.6, 'PC': 0.0, 'AA': 345, 'AH': 0, 'PA': 0}] as trial 29.\n",
      "[INFO 04-12 10:49:36] ax.service.ax_client: Completed trial 29 with data: {'Crystallinity': (4.0, None), 'Morphology': (4.0, None)}.\n"
     ]
    },
    {
     "name": "stdout",
     "output_type": "stream",
     "text": [
      "['Crystallinity', 'Morphology']\n"
     ]
    },
    {
     "name": "stderr",
     "output_type": "stream",
     "text": [
      "/opt/homebrew/lib/python3.13/site-packages/botorch/optim/utils/numpy_utils.py:166: DeprecationWarning: __array__ implementation doesn't accept a copy keyword, so passing copy=False failed. __array__ must implement 'dtype' and 'copy' keyword arguments. To learn more, see the migration guide https://numpy.org/devdocs/numpy_2_0_migration_guide.html#adapting-to-changes-in-the-copy-keyword\n",
      "  out[index : index + size, 0] = lower\n",
      "/opt/homebrew/lib/python3.13/site-packages/botorch/optim/utils/numpy_utils.py:167: DeprecationWarning: __array__ implementation doesn't accept a copy keyword, so passing copy=False failed. __array__ must implement 'dtype' and 'copy' keyword arguments. To learn more, see the migration guide https://numpy.org/devdocs/numpy_2_0_migration_guide.html#adapting-to-changes-in-the-copy-keyword\n",
      "  out[index : index + size, 1] = upper\n",
      "/opt/homebrew/lib/python3.13/site-packages/botorch/optim/utils/numpy_utils.py:166: DeprecationWarning: __array__ implementation doesn't accept a copy keyword, so passing copy=False failed. __array__ must implement 'dtype' and 'copy' keyword arguments. To learn more, see the migration guide https://numpy.org/devdocs/numpy_2_0_migration_guide.html#adapting-to-changes-in-the-copy-keyword\n",
      "  out[index : index + size, 0] = lower\n",
      "/opt/homebrew/lib/python3.13/site-packages/botorch/optim/utils/numpy_utils.py:167: DeprecationWarning: __array__ implementation doesn't accept a copy keyword, so passing copy=False failed. __array__ must implement 'dtype' and 'copy' keyword arguments. To learn more, see the migration guide https://numpy.org/devdocs/numpy_2_0_migration_guide.html#adapting-to-changes-in-the-copy-keyword\n",
      "  out[index : index + size, 1] = upper\n",
      "/opt/homebrew/lib/python3.13/site-packages/botorch/optim/utils/numpy_utils.py:166: DeprecationWarning: __array__ implementation doesn't accept a copy keyword, so passing copy=False failed. __array__ must implement 'dtype' and 'copy' keyword arguments. To learn more, see the migration guide https://numpy.org/devdocs/numpy_2_0_migration_guide.html#adapting-to-changes-in-the-copy-keyword\n",
      "  out[index : index + size, 0] = lower\n",
      "/opt/homebrew/lib/python3.13/site-packages/botorch/optim/utils/numpy_utils.py:167: DeprecationWarning: __array__ implementation doesn't accept a copy keyword, so passing copy=False failed. __array__ must implement 'dtype' and 'copy' keyword arguments. To learn more, see the migration guide https://numpy.org/devdocs/numpy_2_0_migration_guide.html#adapting-to-changes-in-the-copy-keyword\n",
      "  out[index : index + size, 1] = upper\n",
      "/opt/homebrew/lib/python3.13/site-packages/botorch/optim/utils/numpy_utils.py:166: DeprecationWarning: __array__ implementation doesn't accept a copy keyword, so passing copy=False failed. __array__ must implement 'dtype' and 'copy' keyword arguments. To learn more, see the migration guide https://numpy.org/devdocs/numpy_2_0_migration_guide.html#adapting-to-changes-in-the-copy-keyword\n",
      "  out[index : index + size, 0] = lower\n",
      "/opt/homebrew/lib/python3.13/site-packages/botorch/optim/utils/numpy_utils.py:167: DeprecationWarning: __array__ implementation doesn't accept a copy keyword, so passing copy=False failed. __array__ must implement 'dtype' and 'copy' keyword arguments. To learn more, see the migration guide https://numpy.org/devdocs/numpy_2_0_migration_guide.html#adapting-to-changes-in-the-copy-keyword\n",
      "  out[index : index + size, 1] = upper\n"
     ]
    }
   ],
   "source": [
    "from ressources.functions import *\n",
    "from ressources.bo import *\n",
    "\n",
    "features, outcomes = read_experimental_data('/Users/colin/Downloads/Ti-GalPP_180temp test_update(AutoRecovered)_for app copy.csv', out_pos=[-2,-1])\n",
    "names=['concentration', 'stoechiometrie1', 'PG', 'PC', 'AA', 'AH', 'PA']\n",
    "# feat = {name: info for name,info in features.items() if name!= names[1]}\n",
    "bo = AxBOExperiment(features, outcomes, \n",
    "                    N=1, optim='bo',maximize=True, \n",
    "                    fixed_features=None)"
   ]
  },
  {
   "cell_type": "code",
   "execution_count": null,
   "id": "0e49d5df",
   "metadata": {},
   "outputs": [],
   "source": []
  },
  {
   "cell_type": "code",
   "execution_count": null,
   "id": "54268b59",
   "metadata": {},
   "outputs": [],
   "source": [
    "bo.suggest_next_trials()"
   ]
  },
  {
   "cell_type": "code",
   "execution_count": null,
   "id": "db96837c",
   "metadata": {},
   "outputs": [],
   "source": [
    "bo.optim='sobol'"
   ]
  }
 ],
 "metadata": {
  "kernelspec": {
   "display_name": "Python 3",
   "language": "python",
   "name": "python3"
  },
  "language_info": {
   "codemirror_mode": {
    "name": "ipython",
    "version": 3
   },
   "file_extension": ".py",
   "mimetype": "text/x-python",
   "name": "python",
   "nbconvert_exporter": "python",
   "pygments_lexer": "ipython3",
   "version": "3.13.2"
  }
 },
 "nbformat": 4,
 "nbformat_minor": 5
}
